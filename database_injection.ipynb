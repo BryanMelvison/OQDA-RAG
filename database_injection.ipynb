{
 "cells": [
  {
   "cell_type": "code",
   "execution_count": 5,
   "metadata": {},
   "outputs": [
    {
     "data": {
      "text/plain": [
       "True"
      ]
     },
     "execution_count": 5,
     "metadata": {},
     "output_type": "execute_result"
    }
   ],
   "source": [
    "import random\n",
    "import torch\n",
    "from torch.utils.data import DataLoader, Dataset\n",
    "import pandas as pd\n",
    "\n",
    "from typing import  List\n",
    "import os\n",
    "from dotenv import load_dotenv\n",
    "import databasemanager\n",
    "import model_loading\n",
    "from databasepipeline import DatabasePipeline\n",
    "\n",
    "load_dotenv()\n"
   ]
  },
  {
   "cell_type": "code",
   "execution_count": 3,
   "metadata": {},
   "outputs": [],
   "source": [
    "# For Reproducibility\n",
    "random.seed(2024)\n",
    "torch.manual_seed(2024)\n",
    "\n",
    "device = torch.device(\"cuda\" if torch.cuda.is_available() else \"cpu\")"
   ]
  },
  {
   "cell_type": "code",
   "execution_count": 9,
   "metadata": {},
   "outputs": [],
   "source": [
    "multi_gpu = os.getenv(\"multi_gpu\")\n",
    "a_name = os.getenv(\"a_name\")\n",
    "q_name = os.getenv(\"q_name\")\n",
    "t_name = os.getenv(\"t_name\")\n",
    "a_path = os.getenv(\"a_path\")\n",
    "q_path = os.getenv(\"q_path\")\n",
    "database_embedding = os.getenv(\"DATABASE_NAME\")\n",
    "collection_embedding = os.getenv(\"COLLECTION_NAME\")\n",
    "\n",
    "database_answer = os.getenv(\"DATABASE_NAME_1\")\n",
    "collection_answer = os.getenv(\"COLLECTION_NAME_1\")"
   ]
  },
  {
   "cell_type": "code",
   "execution_count": 4,
   "metadata": {},
   "outputs": [
    {
     "name": "stdout",
     "output_type": "stream",
     "text": [
      "model/a_encoder_model.bin\n"
     ]
    }
   ],
   "source": [
    "# Load Passage, Models and Tokenizers:\n",
    "answers = pd.read_csv('qa/answers.csv')\n",
    "\n",
    "\n",
    "# load_a = model_loading.load_model(a_path, a_name , device )\n",
    "# load_q = model_loading.load_model(q_path, q_name, device )\n",
    "\n",
    "load_a = model_loading.load_model_from_gpu(a_path, a_name, device)\n",
    "load_q = model_loading.load_model_from_gpu(q_path, q_name, device)\n",
    "\n",
    "a_enc = model_loading.enableMultiGPU(load_a, multi_gpu)\n",
    "q_enc = model_loading.enableMultiGPU(load_q, multi_gpu)\n",
    "\n",
    "tokenizer = model_loading.load_tokenizer(t_name)"
   ]
  },
  {
   "cell_type": "code",
   "execution_count": 7,
   "metadata": {},
   "outputs": [],
   "source": [
    "class AnswerDataset(Dataset):\n",
    "    def __init__(self, answer: List[str]):\n",
    "        self.answer = answer\n",
    "    \n",
    "    def __len__(self) -> int:\n",
    "        return len(self.answer)\n",
    "    \n",
    "    def __getitem__(self, index) -> str:\n",
    "        return self.answer[index]\n",
    "\n",
    "batch_size = 64\n",
    "answers['Answer'] = answers['Answer'].fillna('').str.replace('[^a-zA-Z0-9.!,]', ' ', regex=True).replace('\\s+', ' ', regex=True)\n",
    "answer = answers['Answer'].tolist()\n",
    "\n",
    "answerDataset = AnswerDataset(answer)\n",
    "answer_loader = DataLoader(answerDataset, batch_size = batch_size, shuffle = False)"
   ]
  },
  {
   "cell_type": "code",
   "execution_count": 14,
   "metadata": {},
   "outputs": [],
   "source": [
    "database_pipeline = DatabasePipeline(q_enc, a_enc, tokenizer, answer_loader, device)"
   ]
  },
  {
   "cell_type": "code",
   "execution_count": 21,
   "metadata": {},
   "outputs": [],
   "source": [
    "database_manager_embedding = databasemanager.DatabaseManager(database_embedding, collection_embedding)\n",
    "database_manager_answer = databasemanager.DatabaseManager(database_answer, collection_answer)"
   ]
  },
  {
   "cell_type": "code",
   "execution_count": 22,
   "metadata": {},
   "outputs": [],
   "source": [
    "database_pipeline.connection_db(database_manager_embedding, database_manager_answer)"
   ]
  },
  {
   "cell_type": "code",
   "execution_count": null,
   "metadata": {},
   "outputs": [],
   "source": [
    "# Inject Data Now to an empty Database\n",
    "database_pipeline.embed_passage()\n",
    "database_pipeline.insertanswersdb()\n"
   ]
  },
  {
   "cell_type": "code",
   "execution_count": 20,
   "metadata": {},
   "outputs": [],
   "source": [
    "# Once done, close the connection to the database:\n",
    "database_pipeline.disconnect_db()"
   ]
  }
 ],
 "metadata": {
  "kernelspec": {
   "display_name": "base",
   "language": "python",
   "name": "python3"
  },
  "language_info": {
   "codemirror_mode": {
    "name": "ipython",
    "version": 3
   },
   "file_extension": ".py",
   "mimetype": "text/x-python",
   "name": "python",
   "nbconvert_exporter": "python",
   "pygments_lexer": "ipython3",
   "version": "3.11.4"
  }
 },
 "nbformat": 4,
 "nbformat_minor": 2
}
